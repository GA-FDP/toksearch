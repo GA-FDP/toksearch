{
 "cells": [
  {
   "cell_type": "markdown",
   "metadata": {},
   "source": [
    "# Working with signals\n",
    "\n",
    "The ```Signal``` class and its derived subclasses provide methods for fetching data from some external source. At present, this includes MDSplus archives (with the ability to access both tree data on the local file system and remote servers). \n",
    "\n",
    "Note: Access to the DIII-D PTDATA archiving system is available in the PtDataSignal class, which is provided by the ```toksearch_d3d``` package, which must be installed separately. Examples are provided in the ```toksearch_d3d``` package documentation.\n",
    "\n",
    "Behind the scenes, things like connection handles and open file descriptors are cached. ```Signal``` objects provide methods for cleaning up those resources both after processing a single shot (such as with local MDSplus tree files) and after running many shots (such as persistent network connections). When used in conjunction with a ```Pipeline```, the ```Pipeline``` object will handle the resource management aspect.\n",
    "\n",
    "## Creating an ```MdsSignal```\n",
    "\n",
    "As an example of using a ```Signal``` object, we'll look at the ```MdsSignal```, which is built into the core TokSearch package.\n"
   ]
  },
  {
   "cell_type": "code",
   "execution_count": 1,
   "metadata": {},
   "outputs": [],
   "source": [
    "import numpy as np\n",
    "import pprint\n",
    "from toksearch import MdsSignal\n",
    "np.set_printoptions(threshold=3, precision=1)"
   ]
  },
  {
   "cell_type": "code",
   "execution_count": 2,
   "metadata": {},
   "outputs": [],
   "source": [
    "mds_node = r'\\ipmhd'\n",
    "mds_tree = 'efit01'\n",
    "location = None\n",
    "ipmhd_signal = MdsSignal(mds_node, mds_tree, location=location)"
   ]
  },
  {
   "cell_type": "markdown",
   "metadata": {},
   "source": [
    "- We set the first argument specifying which MDSplus data we want, in this case the reconstructed plasma current, ```r'\\ipmhd```. Any valid mds node or tdi expression is allowed.\n",
    "Note that we use the Python raw specifier, ```r```, to ensure that the ```\\``` character is not interpreted as an escape character.\n",
    "- We specify the MDSplus tree as ```efit01```. This documentation was developed using data from DIII-D, so this is data from a DIII-D equilibrium reconstruction.\n",
    "- We'll generally NOT specify an explicit ```location```, as this will usually taken care of by the defaults in\n",
    "the environment. When location is not specified, the MdsSignal will first look\n",
    "for an environment variable called TOKSEARCH_MDS_DEFAULT and use that if found. \n",
    "Otherwise, it will look for an environment variable of the form TREE_path (which in this \n",
    "case would be efit01_path). Failing that, it will raise an exception. To specify that we're using a remote server, we would instead use the syntax ```location=\"remote://servername\"```. For example, at DIII-D, we might use ```location=\"remote://atlas.gat.com\"```."
   ]
  },
  {
   "cell_type": "markdown",
   "metadata": {},
   "source": [
    "Every ```Signal``` subclass provides methods for fetching data. When used with a ```Pipeline```, these would not be called directly. But, they provide a convenient interface with the archives and are also useful for debugging."
   ]
  },
  {
   "cell_type": "code",
   "execution_count": 3,
   "metadata": {},
   "outputs": [
    {
     "name": "stdout",
     "output_type": "stream",
     "text": [
      "{'data': array([213493.6, 281801.6, 286739.6, ..., 475302.8, 474772.5, 471811.7],\n",
      "      dtype=float32), 'times': array([ 100.,  140.,  160., ..., 6340., 6360., 6380.], dtype=float32), 'units': {'data': 'A', 'times': 'ms'}}\n"
     ]
    }
   ],
   "source": [
    "shot = 165920\n",
    "\n",
    "# Fetch the data into a dict with fields data and times\n",
    "dict_result = ipmhd_signal.fetch(shot)\n",
    "print(dict_result)"
   ]
  },
  {
   "cell_type": "code",
   "execution_count": 4,
   "metadata": {},
   "outputs": [
    {
     "name": "stdout",
     "output_type": "stream",
     "text": [
      "<xarray.DataArray (times: 303)> Size: 1kB\n",
      "array([213493.6, 281801.6, 286739.6, ..., 475302.8, 474772.5, 471811.7],\n",
      "      dtype=float32)\n",
      "Coordinates:\n",
      "  * times    (times) float32 1kB 100.0 140.0 160.0 ... 6.36e+03 6.38e+03\n",
      "Attributes:\n",
      "    units:    A\n"
     ]
    }
   ],
   "source": [
    "# We can also fetch the result as an xarray DataArray object\n",
    "xarray_result = ipmhd_signal.fetch_as_xarray(shot)\n",
    "print(xarray_result)"
   ]
  },
  {
   "cell_type": "markdown",
   "metadata": {},
   "source": [
    "## ```Signal``` Callbacks\n",
    "\n",
    "All ```Signal``` classes allow the user to provide a callback for modifying both the fetched data and coordinates associated with its dimensions. These callbacks are supplied by running the ```set_callback``` method, and then are executed during execution of either the ```fetch``` or ```fetch_as_xarray``` methods.\n",
    "\n",
    "\n",
    "The example below shows a simple example of a callback. It simply does unit conversion for the ```ip``` data from MA to kA, and the timebase from milliseconds to seconds."
   ]
  },
  {
   "cell_type": "code",
   "execution_count": 5,
   "metadata": {},
   "outputs": [
    {
     "name": "stdout",
     "output_type": "stream",
     "text": [
      "<xarray.DataArray (times: 303)> Size: 1kB\n",
      "array([2.1e+08, 2.7e+08, 2.8e+08, ..., 4.8e+08, 4.8e+08, 4.7e+08],\n",
      "      dtype=float32)\n",
      "Coordinates:\n",
      "  * times    (times) float32 1kB 0.1 0.14 0.16 0.18 0.2 ... 6.32 6.34 6.36 6.38\n",
      "Attributes:\n",
      "    units:    kA\n"
     ]
    }
   ],
   "source": [
    "def MA_to_kA(result_dict):\n",
    "    result_dict[\"data\"] *= 1000.\n",
    "    result_dict[\"times\"] *= 0.001\n",
    "    result_dict[\"units\"][\"data\"] = \"kA\"\n",
    "    result_dict[\"units\"][\"times\"] = \"s\"\n",
    "    return result_dict\n",
    "\n",
    "ip_signal_ka = MdsSignal(r\"\\ipmeas\", \"efit01\").set_callback(MA_to_kA)\n",
    "print(ip_signal_ka.fetch_as_xarray(shot))"
   ]
  },
  {
   "cell_type": "markdown",
   "metadata": {},
   "source": [
    "## Multidimensional Data\n",
    "\n",
    "```Signal``` classes support retrieval of data with more dimensions than just time. As an example, we'll look at retrieval of flux-on-the-grid, ```psirz```, which has three dimension: times, r, and z. But we'll assume that we don't know that there are three dimensions, or what order they are stored in (since MDSplus doesn't really provide a easy way to figure this out).\n",
    "\n",
    "We start by retrieving just the data and no dimensions. We need to do a bit of detective work to determine which dimensions are which."
   ]
  },
  {
   "cell_type": "code",
   "execution_count": 6,
   "metadata": {},
   "outputs": [
    {
     "name": "stdout",
     "output_type": "stream",
     "text": [
      "(303, 65, 65)\n"
     ]
    }
   ],
   "source": [
    "\n",
    "psirz_sig = MdsSignal(r'\\psirz', 'efit01', dims=None)\n",
    "\n",
    "shape = psirz_sig.fetch(shot)['data'].shape\n",
    "print(shape)"
   ]
  },
  {
   "cell_type": "markdown",
   "metadata": {},
   "source": [
    "Now we know that there are three dimensions, but we don't know which dimension is which.\n",
    "We pass the keyword argument ```dims``` a list of dummy labels."
   ]
  },
  {
   "cell_type": "code",
   "execution_count": 7,
   "metadata": {},
   "outputs": [
    {
     "name": "stdout",
     "output_type": "stream",
     "text": [
      "dim0 shape: (65,)\n",
      "dim1 shape: (65,)\n",
      "dim2 shape: (303,)\n"
     ]
    }
   ],
   "source": [
    "dummy_dims = ['dim0', 'dim1', 'dim2']\n",
    "\n",
    "psirz_sig = MdsSignal(r'\\psirz', 'efit01', dims=dummy_dims)\n",
    "res = psirz_sig.fetch(shot)\n",
    "\n",
    "for dim in dummy_dims:\n",
    "    print('{} shape: {}'.format(dim, res[dim].shape))\n",
    "\n"
   ]
  },
  {
   "cell_type": "markdown",
   "metadata": {},
   "source": [
    "From this, we gather that the last dimension is the ```times``` dimension and that the other two dimensions represent ```r``` and ```z```, in some order."
   ]
  },
  {
   "cell_type": "code",
   "execution_count": 8,
   "metadata": {},
   "outputs": [
    {
     "name": "stdout",
     "output_type": "stream",
     "text": [
      "Min dim0: 0.8399999737739563, Max dim0: 2.5399999618530273\n",
      "Min dim1: -1.600000023841858, Max dim1: 1.600000023841858\n"
     ]
    }
   ],
   "source": [
    "print('Min dim0: {}, Max dim0: {}'.format(res['dim0'].min(), res['dim0'].max()))\n",
    "print('Min dim1: {}, Max dim1: {}'.format(res['dim1'].min(), res['dim1'].max()))"
   ]
  },
  {
   "cell_type": "markdown",
   "metadata": {},
   "source": [
    "By convention, we know that ```r``` is always positive, while ```z``` can assume both negative, so we know we can label the dimensions as ```['r', 'z', 'times']```.\n",
    "\n",
    "But, we now have another problem. The shape of the ```data``` is ```(303, 65, 65)```, which is inconsistent with the ordering of the dimensions. This is ok if use the ```fetch``` method:"
   ]
  },
  {
   "cell_type": "code",
   "execution_count": 9,
   "metadata": {},
   "outputs": [
    {
     "name": "stdout",
     "output_type": "stream",
     "text": [
      "times: [ 100.  140.  160. ... 6340. 6360. 6380.]\n",
      "r    : [0.8 0.9 0.9 ... 2.5 2.5 2.5]\n",
      "z    : [-1.6 -1.6 -1.5 ...  1.5  1.6  1.6]\n"
     ]
    }
   ],
   "source": [
    "dims = ['r', 'z', 'times']\n",
    "psirz_sig = MdsSignal(r'\\psirz', 'efit01', dims=dims)\n",
    "\n",
    "dict_result = psirz_sig.fetch(shot)\n",
    "print('times: {}'.format(dict_result['times']))\n",
    "print('r    : {}'.format(dict_result['r']))\n",
    "print('z    : {}'.format(dict_result['z']))"
   ]
  },
  {
   "cell_type": "markdown",
   "metadata": {},
   "source": [
    "However, running ```fetch_as_xarray``` requires that the dimension ordering be consistent."
   ]
  },
  {
   "cell_type": "code",
   "execution_count": 10,
   "metadata": {},
   "outputs": [
    {
     "name": "stdout",
     "output_type": "stream",
     "text": [
      "ERROR: conflicting sizes for dimension 'r': length 303 on the data but length 65 on coordinate 'r'\n"
     ]
    }
   ],
   "source": [
    "try:\n",
    "    xarray_result = psirz_sig.fetch_as_xarray(shot)\n",
    "except Exception as e:\n",
    "    print('ERROR: {}'.format(e))"
   ]
  },
  {
   "cell_type": "markdown",
   "metadata": {},
   "source": [
    "We can fix this by using a ```data_func``` callback and performing a transpose operation on the ```data```."
   ]
  },
  {
   "cell_type": "code",
   "execution_count": 11,
   "metadata": {},
   "outputs": [
    {
     "name": "stdout",
     "output_type": "stream",
     "text": [
      "<xarray.DataArray (times: 303, r: 65, z: 65)> Size: 5MB\n",
      "array([[[-2.9e-01, -3.0e-01, -3.0e-01, ..., -2.5e-01, -2.5e-01,\n",
      "         -2.4e-01],\n",
      "        [-3.0e-01, -3.0e-01, -3.0e-01, ..., -2.5e-01, -2.5e-01,\n",
      "         -2.5e-01],\n",
      "        [-3.0e-01, -3.0e-01, -3.0e-01, ..., -2.5e-01, -2.5e-01,\n",
      "         -2.5e-01],\n",
      "        ...,\n",
      "        [-3.0e-01, -3.0e-01, -3.0e-01, ..., -2.5e-01, -2.5e-01,\n",
      "         -2.5e-01],\n",
      "        [-3.0e-01, -3.0e-01, -3.0e-01, ..., -2.5e-01, -2.5e-01,\n",
      "         -2.5e-01],\n",
      "        [-2.9e-01, -3.0e-01, -3.0e-01, ..., -2.5e-01, -2.5e-01,\n",
      "         -2.4e-01]],\n",
      "\n",
      "       [[-2.9e-01, -2.9e-01, -2.9e-01, ..., -2.3e-01, -2.3e-01,\n",
      "         -2.2e-01],\n",
      "        [-2.9e-01, -2.9e-01, -2.9e-01, ..., -2.3e-01, -2.3e-01,\n",
      "         -2.3e-01],\n",
      "        [-2.9e-01, -2.9e-01, -2.9e-01, ..., -2.3e-01, -2.3e-01,\n",
      "         -2.3e-01],\n",
      "...\n",
      "        [-3.0e-02, -3.1e-02, -3.1e-02, ...,  1.4e-03,  2.4e-03,\n",
      "          3.4e-03],\n",
      "        [-3.0e-02, -3.0e-02, -3.1e-02, ...,  5.4e-04,  1.5e-03,\n",
      "          2.4e-03],\n",
      "        [-2.9e-02, -3.0e-02, -3.0e-02, ..., -1.9e-04,  7.0e-04,\n",
      "          1.6e-03]],\n",
      "\n",
      "       [[-3.2e-02, -3.3e-02, -3.4e-02, ...,  3.5e-03,  4.5e-03,\n",
      "          5.4e-03],\n",
      "        [-3.3e-02, -3.4e-02, -3.5e-02, ...,  5.0e-03,  6.0e-03,\n",
      "          7.0e-03],\n",
      "        [-3.4e-02, -3.5e-02, -3.6e-02, ...,  6.8e-03,  7.9e-03,\n",
      "          8.9e-03],\n",
      "        ...,\n",
      "        [-3.0e-02, -3.1e-02, -3.1e-02, ...,  1.2e-03,  2.2e-03,\n",
      "          3.2e-03],\n",
      "        [-3.0e-02, -3.0e-02, -3.1e-02, ...,  3.9e-04,  1.3e-03,\n",
      "          2.2e-03],\n",
      "        [-2.9e-02, -2.9e-02, -3.0e-02, ..., -3.4e-04,  5.4e-04,\n",
      "          1.4e-03]]], dtype=float32)\n",
      "Coordinates:\n",
      "  * times    (times) float32 1kB 100.0 140.0 160.0 ... 6.36e+03 6.38e+03\n",
      "  * r        (r) float32 260B 0.84 0.8666 0.8931 0.9197 ... 2.487 2.513 2.54\n",
      "  * z        (z) float32 260B -1.6 -1.55 -1.5 -1.45 -1.4 ... 1.45 1.5 1.55 1.6\n",
      "Attributes:\n",
      "    units:    V s / rad\n"
     ]
    }
   ],
   "source": [
    "psirz_sig = MdsSignal(r'\\psirz', 'efit01', dims=dims, data_order=['times', 'r', 'z'])\n",
    "print(psirz_sig.fetch_as_xarray(shot))"
   ]
  },
  {
   "cell_type": "markdown",
   "metadata": {},
   "source": [
    "Now everything works."
   ]
  }
 ],
 "metadata": {
  "kernelspec": {
   "display_name": "Python 3 (ipykernel)",
   "language": "python",
   "name": "python3"
  },
  "language_info": {
   "codemirror_mode": {
    "name": "ipython",
    "version": 3
   },
   "file_extension": ".py",
   "mimetype": "text/x-python",
   "name": "python",
   "nbconvert_exporter": "python",
   "pygments_lexer": "ipython3",
   "version": "3.10.14"
  }
 },
 "nbformat": 4,
 "nbformat_minor": 4
}
