{
 "cells": [
  {
   "cell_type": "markdown",
   "metadata": {},
   "source": [
    "# Creating a Pipeline from an SQL Query\n",
    "\n",
    "The ```Pipeline``` class has an alternate method of instatiation that supports passing in data from an SQL query. \n",
    "\n",
    "The class method ```Pipeline.from_sql``` accepts a standard Python DB API connection object and a query, along with interpolated query parameters, and returns a ```Pipeline``` object that can be manipulated in the usual ways.\n",
    "\n",
    "A utility function called ```connect_d3drdb``` returns a Connection handle for the DIII-D relational database server, d3drdb.gat.com, and by default opens the ```d3drdb``` database.\n",
    "\n",
    "A minimal example is illustrated below:"
   ]
  },
  {
   "cell_type": "code",
   "execution_count": 67,
   "metadata": {},
   "outputs": [
    {
     "name": "stdout",
     "output_type": "stream",
     "text": [
      "NUM RESULTS: 75615\n",
      "Most recent plasma shot (as of 2020-12-17): 183872\n"
     ]
    }
   ],
   "source": [
    "from toksearch.sql.mssql import connect_d3drdb\n",
    "from toksearch import Pipeline\n",
    "import datetime\n",
    "\n",
    "# Create a Connection object. By default, connect_d3drdb will look at the file ~/D3DRDB.sybase_login\n",
    "# for your username username and password\n",
    "conn = connect_d3drdb()\n",
    "\n",
    "# Grab all plasma shots, sorted by shot number is ascending order\n",
    "query = \"select shot from shots_type where shot_type = 'plasma' order by shot asc\"\n",
    "pipeline = Pipeline.from_sql(conn, query)\n",
    "\n",
    "results = pipeline.compute_serial()\n",
    "\n",
    "print(f'NUM RESULTS: {len(results)}')\n",
    "\n",
    "now = datetime.datetime.now()\n",
    "print(f'Most recent plasma shot (as of {now.strftime(\"%Y-%m-%d\")}): {results[-1][\"shot\"]}')"
   ]
  },
  {
   "cell_type": "markdown",
   "metadata": {},
   "source": [
    "# Connecting to the d3drdb from saga\n",
    "\n",
    "All users on iris are given the file ~/D3DRDB.sybase_login when their accounts are created. This file contains the username and password for the d3drdb database. The best practice is to use read this file and grab the username and password from it, rather than putting them into source code. For usage on saga simply do this to copy the file:\n",
    "\n",
    "```bash\n",
    "#On saga:\n",
    "scp iris:D3DRDB.sybase_login ~/\n",
    "```\n",
    "\n",
    "The default behavior of the ```connect_d3drdb``` utility function is to read this file, so if it is available, there is no need to supply the username or password keyword arguments."
   ]
  },
  {
   "cell_type": "markdown",
   "metadata": {},
   "source": [
    "# Using parameterized queries\n",
    "\n",
    "The ```Pipeline.from_sql``` supports parameterized queries. The exact syntax for this varies depending on the particular database being used. Microsoft SQL Server, the underlying database management system for the d3drdb, for example, uses ```%d``` or ```%s``` as placeholders, either of which can be used interchangeably no matter the variable type. SQLite, by contrast, uses ```?``` as the placeholder.\n",
    "\n",
    "The example below modifies the query in the previous example to use a parameter."
   ]
  },
  {
   "cell_type": "code",
   "execution_count": 68,
   "metadata": {},
   "outputs": [
    {
     "name": "stdout",
     "output_type": "stream",
     "text": [
      "NUM_RESULTS: 1730\n"
     ]
    }
   ],
   "source": [
    "parameterized_query = \"\"\"\n",
    "    select shot \n",
    "    from shots_type \n",
    "    where shot_type = 'plasma' and shot > %d\n",
    "    order by shot asc\n",
    "    \"\"\"\n",
    "minimum_shot = 180000\n",
    "pipeline = Pipeline.from_sql(conn, parameterized_query, minimum_shot)\n",
    "results = pipeline.compute_serial()\n",
    "print(f'NUM_RESULTS: {len(results)}')\n",
    "assert results[0]['shot'] > minimum_shot"
   ]
  },
  {
   "cell_type": "markdown",
   "metadata": {},
   "source": [
    "# Query Restrictions\n",
    "\n",
    "There are some restrictions on the query that is passed to the ```Pipeline.from_sql``` method.\n",
    "\n",
    "* The results of the query must contain the column \"shots\". If not, an exception will be raised. "
   ]
  },
  {
   "cell_type": "code",
   "execution_count": 69,
   "metadata": {},
   "outputs": [
    {
     "name": "stdout",
     "output_type": "stream",
     "text": [
      "No exception raised using good query!\n",
      "Sample result: {'shot': 183801, 'errors': {}, 'entered': datetime.datetime(2020, 12, 3, 15, 5, 51, 253000)}\n",
      "\n",
      "\n",
      "Exception raised with bad_query: Cannot create Record without a shot number\n"
     ]
    }
   ],
   "source": [
    "good_query = \"select shot, entered from shots where shot > 183800\"\n",
    "good_pipeline = Pipeline.from_sql(conn, good_query)\n",
    "results = good_pipeline.compute_serial()\n",
    "print(f'No exception raised using good query!')\n",
    "print(f'Sample result: {results[0]}')\n",
    "    \n",
    "bad_query = \"select entered from shots where shot > 183800\"\n",
    "try:\n",
    "    bad_pipeline = Pipeline.from_sql(conn, bad_query)\n",
    "except Exception as e:\n",
    "    print(f'\\n\\nException raised with bad_query: {e}')\n",
    "    "
   ]
  },
  {
   "cell_type": "markdown",
   "metadata": {},
   "source": [
    "* The strings 'key' and 'errors' are reserved words and cannot be used as column names."
   ]
  },
  {
   "cell_type": "code",
   "execution_count": 70,
   "metadata": {},
   "outputs": [
    {
     "name": "stdout",
     "output_type": "stream",
     "text": [
      "Exception raised with another_bad_query: Illegal field: key when trying to create Record\n"
     ]
    }
   ],
   "source": [
    "another_bad_query = \"select shot, entered as 'key' from shots where shot > 183800\"\n",
    "try:\n",
    "    bad_pipeline = Pipeline.from_sql(conn, another_bad_query)\n",
    "except Exception as e:\n",
    "    print(f'Exception raised with another_bad_query: {e}')\n",
    "\n"
   ]
  },
  {
   "cell_type": "markdown",
   "metadata": {},
   "source": [
    "* All columns must be named."
   ]
  },
  {
   "cell_type": "code",
   "execution_count": 71,
   "metadata": {},
   "outputs": [
    {
     "name": "stdout",
     "output_type": "stream",
     "text": [
      "No exception raised using good query!\n",
      "Sample result: {'shot': 183801, 'errors': {}, 'a_constant': 'some_constant'}\n",
      "\n",
      "\n",
      "Exception raised with anonymous_query: Cannot use anonymous field names\n"
     ]
    }
   ],
   "source": [
    "good_query = \"select shot, 'some_constant' as a_constant from shots where shot > 183800\"\n",
    "good_pipeline = Pipeline.from_sql(conn, good_query)\n",
    "results = good_pipeline.compute_serial()\n",
    "print(f'No exception raised using good query!')\n",
    "print(f'Sample result: {results[0]}')\n",
    "\n",
    "anonymous_query = \"select shot, 'some_constant' from shots where shot > 183800\"\n",
    "try:\n",
    "    bad_pipeline = Pipeline.from_sql(conn, anonymous_query)\n",
    "except Exception as e:\n",
    "    print(f'\\n\\nException raised with anonymous_query: {e}')"
   ]
  },
  {
   "cell_type": "markdown",
   "metadata": {},
   "source": [
    "# Additional ```connect_d3drdb``` Options\n",
    "\n",
    "By default, if the password keyword argument is not set, then the username and password are read from the file specified in the password_file keyword argument (which by default is set to ~/D3DRDB.sybase_login).\n",
    "\n",
    "The host, port, and db name can all be changed. \n",
    "\n",
    "For example, to use the confinement database:\n"
   ]
  },
  {
   "cell_type": "code",
   "execution_count": 72,
   "metadata": {},
   "outputs": [
    {
     "name": "stdout",
     "output_type": "stream",
     "text": [
      "One record: {'shot': 172579, 'errors': {}, 'ip': 1.14127}\n"
     ]
    }
   ],
   "source": [
    "confinement_conn = connect_d3drdb(db='confinement')\n",
    "\n",
    "confinement_query = \"select shot, ip from confinement\"\n",
    "confinement_pipeline = Pipeline.from_sql(confinement_conn, confinement_query)\n",
    "\n",
    "print(f'One record: {confinement_pipeline.compute_serial()[-1]}')\n"
   ]
  },
  {
   "cell_type": "markdown",
   "metadata": {},
   "source": [
    "The following shows the complete set of options for ```connect_d3drdb```:"
   ]
  },
  {
   "cell_type": "code",
   "execution_count": 73,
   "metadata": {},
   "outputs": [
    {
     "name": "stdout",
     "output_type": "stream",
     "text": [
      "Help on function connect_d3drdb in module toksearch.sql.mssql:\n",
      "\n",
      "connect_d3drdb(username='sammuli', password=None, host='d3drdb.gat.com', db='d3drdb', port=8001, password_file='/home/sammuli/D3DRDB.sybase_login')\n",
      "    Connect to the d3drdb \n",
      "    \n",
      "    Keyword Parameters:\n",
      "        host (str): Defaults to 'd3drdb.gat.com'\n",
      "        port (int): Defaults to 8001\n",
      "        db (str): Name of the db (e.g. d3drdb, confinement). Defaults to d3drdb\n",
      "        username (str): Defaults to current user\n",
      "        password (str): Defaults to None. If not set, an attempt will be made\n",
      "            to read a password file\n",
      "       password_file (str): Full path the a password file, formatted with\n",
      "            username on the first line and password on the second line.\n",
      "    \n",
      "    Returns:\n",
      "        Python DB API compliant Connection object\n",
      "    \n",
      "    Can be used to return a Connection object directly, or used\n",
      "    as a context manager.\n",
      "    Examples:\n",
      "       conn = connect_d3drdb()\n",
      "    \n",
      "       with connect_d3drdb() as conn:\n",
      "           # Do stuff with conn\n",
      "\n"
     ]
    }
   ],
   "source": [
    "help(connect_d3drdb)"
   ]
  },
  {
   "cell_type": "markdown",
   "metadata": {},
   "source": [
    "# A fancier example\n",
    "\n",
    "The following is a more complete example of using SQL in conjunction with TokSearch.\n",
    "\n",
    "The idea is to grab the flattop start time and duration from the d3drdb summaries table for all plasma shots since shot 183000. Then we'll fetch the full ip signal for those shots and plot ip with the flat top bounds for one of the shots."
   ]
  },
  {
   "cell_type": "code",
   "execution_count": 74,
   "metadata": {},
   "outputs": [
    {
     "name": "stdout",
     "output_type": "stream",
     "text": [
      "BATCH 1/1\n",
      "NUM PARTITIONS: 534\n",
      "MEDIAN PARTITION SIZE: 1\n",
      "###########\n",
      "NUM RESULTS: 514\n"
     ]
    },
    {
     "data": {
      "text/plain": [
       "<matplotlib.lines.Line2D at 0x2b11c9ea5a90>"
      ]
     },
     "execution_count": 74,
     "metadata": {},
     "output_type": "execute_result"
    },
    {
     "data": {
      "image/png": "[encoded data removed]",
      "text/plain": [
       "<Figure size 432x288 with 1 Axes>"
      ]
     },
     "metadata": {
      "needs_background": "light"
     },
     "output_type": "display_data"
    }
   ],
   "source": [
    "import matplotlib.pyplot as plt\n",
    "%matplotlib inline\n",
    "\n",
    "from toksearch import PtDataSignal\n",
    "\n",
    "fancy_query = \"\"\"\n",
    "    select shots_type.shot, summaries.t_ip_flat as t_start, summaries.ip_flat_duration as t_delta\n",
    "    from shots_type, summaries\n",
    "    where shots_type.shot_type = 'plasma' and shots_type.shot = summaries.shot and shots_type.shot > %d\n",
    "    \"\"\"\n",
    "\n",
    "minimum_shot = 183000\n",
    "\n",
    "# Use the context managaer mode for connect_d3drdb. That was the connection will be cleaned up automatically\n",
    "with connect_d3drdb() as conn:\n",
    "    pipeline = Pipeline.from_sql(conn, fancy_query, minimum_shot)\n",
    "\n",
    "pipeline.fetch('ip', PtDataSignal('ip'))\n",
    "\n",
    "# Just throw away shots with errors\n",
    "@pipeline.where\n",
    "def no_errors(rec):\n",
    "    return not rec.errors\n",
    "    \n",
    "# Use ray to get the results in parallel\n",
    "results = pipeline.compute_ray(numparts=1000)\n",
    "\n",
    "print(f'###########\\nNUM RESULTS: {len(results)}')\n",
    "\n",
    "# Grab a single record\n",
    "rec = results[-1]\n",
    "\n",
    "# Plot stuff\n",
    "fig, ax = plt.subplots()\n",
    "shot = rec['shot']\n",
    "data = rec['ip']['data']\n",
    "times = rec['ip']['times']\n",
    "flattop_start = rec['t_start']\n",
    "flattop_end = flattop_start + rec['t_delta']\n",
    "\n",
    "ax.plot(times, data*1e-6)\n",
    "ax.set_xlabel('Time (ms)')\n",
    "ax.set_ylabel('IP (MA)')\n",
    "\n",
    "ax.axvline(flattop_start, color='r')\n",
    "ax.axvline(flattop_end, color='r')\n"
   ]
  }
 ],
 "metadata": {
  "kernelspec": {
   "display_name": "Python 3 (ipykernel)",
   "language": "python",
   "name": "python3"
  },
  "language_info": {
   "codemirror_mode": {
    "name": "ipython",
    "version": 3
   },
   "file_extension": ".py",
   "mimetype": "text/x-python",
   "name": "python",
   "nbconvert_exporter": "python",
   "pygments_lexer": "ipython3",
   "version": "3.10.14"
  }
 },
 "nbformat": 4,
 "nbformat_minor": 4
}
